{
 "nbformat": 4,
 "nbformat_minor": 2,
 "metadata": {
  "language_info": {
   "name": "python",
   "codemirror_mode": {
    "name": "ipython",
    "version": 3
   }
  },
  "orig_nbformat": 2,
  "file_extension": ".py",
  "mimetype": "text/x-python",
  "name": "python",
  "npconvert_exporter": "python",
  "pygments_lexer": "ipython3",
  "version": 3
 },
 "cells": [
  {
   "cell_type": "markdown",
   "metadata": {},
   "source": [
    "02-28\n",
    "\n",
    "- 根据用户行为数据对用户, 品类和商品建立三部图(Tripartite Graph), 然后使用图神经网络学习商品节点嵌入.\n",
    "\n",
    "03-01\n",
    "\n",
    "- Propositions:\n",
    "  - 同一位用户, 对一类商品的查看量, 收藏量, 加购量越大, 购买该类商品的可能性越高;\n",
    "  - 同类商品中, 查看量, 收藏量, 加购量, 购买量越大,被购买的可能性越高.\n",
    "\n",
    "- Strategies:\n",
    "  - 可以基于行为时间和类别划分训练集和验证集, 最后根据购买行为作为测试集评估模型;\n",
    "  - 首先构建模型预测用户对某一品类商品的购买行为, 然后对该类商品进行排序, 挑选排名前十作为预测值;\n",
    "  - 模型: 用户-品类预测 & 品类-商品排序.\n",
    "\n",
    "- Features:\n",
    "  - 对用户行为进行one-hot编码, 特征维度(N = Behavior Type = 4), 标签数(N = Category Size = 1054);"
   ]
  }
 ]
}