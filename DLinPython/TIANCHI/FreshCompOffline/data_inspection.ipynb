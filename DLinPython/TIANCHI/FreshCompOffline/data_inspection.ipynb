{
 "nbformat": 4,
 "nbformat_minor": 2,
 "metadata": {
  "language_info": {
   "name": "python",
   "codemirror_mode": {
    "name": "ipython",
    "version": 3
   },
   "version": "3.6.8-final"
  },
  "orig_nbformat": 2,
  "file_extension": ".py",
  "mimetype": "text/x-python",
  "name": "python",
  "npconvert_exporter": "python",
  "pygments_lexer": "ipython3",
  "version": 3,
  "kernelspec": {
   "name": "python36864bitf565781081d744afad17c5b35da09c87",
   "display_name": "Python 3.6.8 64-bit"
  }
 },
 "cells": [
  {
   "cell_type": "code",
   "execution_count": 3,
   "metadata": {},
   "outputs": [],
   "source": [
    "import pandas as pd"
   ]
  },
  {
   "cell_type": "code",
   "execution_count": 4,
   "metadata": {},
   "outputs": [],
   "source": [
    "df = pd.read_csv('data/tianchi_fresh_comp_train_user.csv')"
   ]
  },
  {
   "cell_type": "code",
   "execution_count": 5,
   "metadata": {},
   "outputs": [
    {
     "data": {
      "text/html": "<div>\n<style scoped>\n    .dataframe tbody tr th:only-of-type {\n        vertical-align: middle;\n    }\n\n    .dataframe tbody tr th {\n        vertical-align: top;\n    }\n\n    .dataframe thead th {\n        text-align: right;\n    }\n</style>\n<table border=\"1\" class=\"dataframe\">\n  <thead>\n    <tr style=\"text-align: right;\">\n      <th></th>\n      <th>user_id</th>\n      <th>item_id</th>\n      <th>behavior_type</th>\n      <th>item_category</th>\n    </tr>\n  </thead>\n  <tbody>\n    <tr>\n      <th>count</th>\n      <td>2.329103e+07</td>\n      <td>2.329103e+07</td>\n      <td>2.329103e+07</td>\n      <td>2.329103e+07</td>\n    </tr>\n    <tr>\n      <th>mean</th>\n      <td>7.006868e+07</td>\n      <td>2.023214e+08</td>\n      <td>1.106268e+00</td>\n      <td>6.835397e+03</td>\n    </tr>\n    <tr>\n      <th>std</th>\n      <td>4.569072e+07</td>\n      <td>1.167440e+08</td>\n      <td>4.599087e-01</td>\n      <td>3.812873e+03</td>\n    </tr>\n    <tr>\n      <th>min</th>\n      <td>4.920000e+02</td>\n      <td>3.700000e+01</td>\n      <td>1.000000e+00</td>\n      <td>2.000000e+00</td>\n    </tr>\n    <tr>\n      <th>25%</th>\n      <td>3.019541e+07</td>\n      <td>1.014417e+08</td>\n      <td>1.000000e+00</td>\n      <td>3.690000e+03</td>\n    </tr>\n    <tr>\n      <th>50%</th>\n      <td>5.626942e+07</td>\n      <td>2.022430e+08</td>\n      <td>1.000000e+00</td>\n      <td>6.054000e+03</td>\n    </tr>\n    <tr>\n      <th>75%</th>\n      <td>1.166482e+08</td>\n      <td>3.035325e+08</td>\n      <td>1.000000e+00</td>\n      <td>1.027100e+04</td>\n    </tr>\n    <tr>\n      <th>max</th>\n      <td>1.424430e+08</td>\n      <td>4.045625e+08</td>\n      <td>4.000000e+00</td>\n      <td>1.408000e+04</td>\n    </tr>\n  </tbody>\n</table>\n</div>",
      "text/plain": "            user_id       item_id  behavior_type  item_category\ncount  2.329103e+07  2.329103e+07   2.329103e+07   2.329103e+07\nmean   7.006868e+07  2.023214e+08   1.106268e+00   6.835397e+03\nstd    4.569072e+07  1.167440e+08   4.599087e-01   3.812873e+03\nmin    4.920000e+02  3.700000e+01   1.000000e+00   2.000000e+00\n25%    3.019541e+07  1.014417e+08   1.000000e+00   3.690000e+03\n50%    5.626942e+07  2.022430e+08   1.000000e+00   6.054000e+03\n75%    1.166482e+08  3.035325e+08   1.000000e+00   1.027100e+04\nmax    1.424430e+08  4.045625e+08   4.000000e+00   1.408000e+04"
     },
     "execution_count": 5,
     "metadata": {},
     "output_type": "execute_result"
    }
   ],
   "source": [
    "df.describe()"
   ]
  },
  {
   "cell_type": "code",
   "execution_count": 6,
   "metadata": {},
   "outputs": [
    {
     "name": "stdout",
     "output_type": "stream",
     "text": "<class 'pandas.core.frame.DataFrame'>\nRangeIndex: 23291027 entries, 0 to 23291026\nData columns (total 6 columns):\n #   Column         Dtype \n---  ------         ----- \n 0   user_id        int64 \n 1   item_id        int64 \n 2   behavior_type  int64 \n 3   user_geohash   object\n 4   item_category  int64 \n 5   time           object\ndtypes: int64(4), object(2)\nmemory usage: 1.0+ GB\n"
    }
   ],
   "source": [
    "df.info()"
   ]
  },
  {
   "cell_type": "code",
   "execution_count": 7,
   "metadata": {},
   "outputs": [
    {
     "name": "stdout",
     "output_type": "stream",
     "text": "<class 'pandas.core.frame.DataFrame'>\nRangeIndex: 620918 entries, 0 to 620917\nData columns (total 3 columns):\n #   Column         Non-Null Count   Dtype \n---  ------         --------------   ----- \n 0   item_id        620918 non-null  int64 \n 1   item_geohash   203410 non-null  object\n 2   item_category  620918 non-null  int64 \ndtypes: int64(2), object(1)\nmemory usage: 14.2+ MB\n"
    }
   ],
   "source": [
    "items = pd.read_csv('data/tianchi_fresh_comp_train_item.csv')\n",
    "items.info()"
   ]
  },
  {
   "cell_type": "markdown",
   "metadata": {},
   "source": [
    "```tianchi_fresh_comp_train_user.csv```  \n",
    "\n",
    "Item | Value \n",
    "- | -\n",
    "Data Size | 23291027\n",
    "Columns | 0-user_id-int64, 1-item_id-int64, 2-behavior_type-int64, 3-user_geohash-object, 4-item_category-int64, 5-time-object\n",
    "Memory Usage | 1.0+ GB\n",
    "\n",
    "```tianchi_fresh_comp_train_item.csv```  \n",
    "\n",
    "Item | Value\n",
    "- | -\n",
    "Data Size | 620918\n",
    "Columns | 0-item_id-int64, 1-item_geohash-object, 2-item_category-int64\n",
    "Memory Usage | 14.2+ MB"
   ]
  }
 ]
}