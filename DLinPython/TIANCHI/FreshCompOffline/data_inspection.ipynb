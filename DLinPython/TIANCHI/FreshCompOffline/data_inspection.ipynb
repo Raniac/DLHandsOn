{
 "nbformat": 4,
 "nbformat_minor": 2,
 "metadata": {
  "language_info": {
   "name": "python",
   "codemirror_mode": {
    "name": "ipython",
    "version": 3
   },
   "version": "3.6.8-final"
  },
  "orig_nbformat": 2,
  "file_extension": ".py",
  "mimetype": "text/x-python",
  "name": "python",
  "npconvert_exporter": "python",
  "pygments_lexer": "ipython3",
  "version": 3,
  "kernelspec": {
   "name": "python36864bitf565781081d744afad17c5b35da09c87",
   "display_name": "Python 3.6.8 64-bit"
  }
 },
 "cells": [
  {
   "cell_type": "markdown",
   "metadata": {},
   "source": [
    "1 tianchi_fresh_comp_train_user.csv\n",
    "\n",
    "- Data Size: 23291027\n",
    "- Columns: \n",
    "  - 0-user_id-int64\n",
    "  - 1-item_id-int64\n",
    "  - 2-behavior_type-int64: View(1) Favorite(2) AddToCart(3) Buy(4)\n",
    "  - 3-user_geohash-object\n",
    "  - 4-item_category-int64\n",
    "  - 5-time-object: Year-Month-Day Hour\n",
    "- Memory Usage: 1.0+ GB\n",
    "\n",
    "2 tianchi_fresh_comp_train_item.csv \n",
    "\n",
    "- Data Size: 620918\n",
    "- Columns:\n",
    "  - 0-item_id-int64\n",
    "  - 1-item_geohash-object\n",
    "  - 2-item_category-int64\n",
    "- Memory Usage: 14.2+ MB"
   ]
  },
  {
   "cell_type": "code",
   "execution_count": 6,
   "metadata": {},
   "outputs": [
    {
     "name": "stdout",
     "output_type": "stream",
     "text": "<class 'pandas.core.frame.DataFrame'>\nRangeIndex: 23291027 entries, 0 to 23291026\nData columns (total 6 columns):\n #   Column         Dtype \n---  ------         ----- \n 0   user_id        int64 \n 1   item_id        int64 \n 2   behavior_type  int64 \n 3   user_geohash   object\n 4   item_category  int64 \n 5   time           object\ndtypes: int64(4), object(2)\nmemory usage: 1.0+ GB\n"
    }
   ],
   "source": [
    "users.info()"
   ]
  },
  {
   "cell_type": "code",
   "execution_count": 3,
   "metadata": {},
   "outputs": [
    {
     "data": {
      "text/html": "<div>\n<style scoped>\n    .dataframe tbody tr th:only-of-type {\n        vertical-align: middle;\n    }\n\n    .dataframe tbody tr th {\n        vertical-align: top;\n    }\n\n    .dataframe thead th {\n        text-align: right;\n    }\n</style>\n<table border=\"1\" class=\"dataframe\">\n  <thead>\n    <tr style=\"text-align: right;\">\n      <th></th>\n      <th>user_id</th>\n      <th>item_id</th>\n      <th>behavior_type</th>\n      <th>user_geohash</th>\n      <th>item_category</th>\n      <th>time</th>\n    </tr>\n  </thead>\n  <tbody>\n    <tr>\n      <th>0</th>\n      <td>10001082</td>\n      <td>285259775</td>\n      <td>1</td>\n      <td>97lk14c</td>\n      <td>4076</td>\n      <td>2014-12-08 18</td>\n    </tr>\n    <tr>\n      <th>1</th>\n      <td>10001082</td>\n      <td>4368907</td>\n      <td>1</td>\n      <td>NaN</td>\n      <td>5503</td>\n      <td>2014-12-12 12</td>\n    </tr>\n    <tr>\n      <th>2</th>\n      <td>10001082</td>\n      <td>4368907</td>\n      <td>1</td>\n      <td>NaN</td>\n      <td>5503</td>\n      <td>2014-12-12 12</td>\n    </tr>\n    <tr>\n      <th>3</th>\n      <td>10001082</td>\n      <td>53616768</td>\n      <td>1</td>\n      <td>NaN</td>\n      <td>9762</td>\n      <td>2014-12-02 15</td>\n    </tr>\n    <tr>\n      <th>4</th>\n      <td>10001082</td>\n      <td>151466952</td>\n      <td>1</td>\n      <td>NaN</td>\n      <td>5232</td>\n      <td>2014-12-12 11</td>\n    </tr>\n    <tr>\n      <th>5</th>\n      <td>10001082</td>\n      <td>53616768</td>\n      <td>4</td>\n      <td>NaN</td>\n      <td>9762</td>\n      <td>2014-12-02 15</td>\n    </tr>\n    <tr>\n      <th>6</th>\n      <td>10001082</td>\n      <td>290088061</td>\n      <td>1</td>\n      <td>NaN</td>\n      <td>5503</td>\n      <td>2014-12-12 12</td>\n    </tr>\n    <tr>\n      <th>7</th>\n      <td>10001082</td>\n      <td>298397524</td>\n      <td>1</td>\n      <td>NaN</td>\n      <td>10894</td>\n      <td>2014-12-12 12</td>\n    </tr>\n    <tr>\n      <th>8</th>\n      <td>10001082</td>\n      <td>32104252</td>\n      <td>1</td>\n      <td>NaN</td>\n      <td>6513</td>\n      <td>2014-12-12 12</td>\n    </tr>\n    <tr>\n      <th>9</th>\n      <td>10001082</td>\n      <td>323339743</td>\n      <td>1</td>\n      <td>NaN</td>\n      <td>10894</td>\n      <td>2014-12-12 12</td>\n    </tr>\n  </tbody>\n</table>\n</div>",
      "text/plain": "    user_id    item_id  behavior_type user_geohash  item_category  \\\n0  10001082  285259775              1      97lk14c           4076   \n1  10001082    4368907              1          NaN           5503   \n2  10001082    4368907              1          NaN           5503   \n3  10001082   53616768              1          NaN           9762   \n4  10001082  151466952              1          NaN           5232   \n5  10001082   53616768              4          NaN           9762   \n6  10001082  290088061              1          NaN           5503   \n7  10001082  298397524              1          NaN          10894   \n8  10001082   32104252              1          NaN           6513   \n9  10001082  323339743              1          NaN          10894   \n\n            time  \n0  2014-12-08 18  \n1  2014-12-12 12  \n2  2014-12-12 12  \n3  2014-12-02 15  \n4  2014-12-12 11  \n5  2014-12-02 15  \n6  2014-12-12 12  \n7  2014-12-12 12  \n8  2014-12-12 12  \n9  2014-12-12 12  "
     },
     "execution_count": 3,
     "metadata": {},
     "output_type": "execute_result"
    }
   ],
   "source": [
    "users.head(10)"
   ]
  },
  {
   "cell_type": "code",
   "execution_count": 7,
   "metadata": {},
   "outputs": [
    {
     "name": "stdout",
     "output_type": "stream",
     "text": "<class 'pandas.core.frame.DataFrame'>\nRangeIndex: 620918 entries, 0 to 620917\nData columns (total 3 columns):\n #   Column         Non-Null Count   Dtype \n---  ------         --------------   ----- \n 0   item_id        620918 non-null  int64 \n 1   item_geohash   203410 non-null  object\n 2   item_category  620918 non-null  int64 \ndtypes: int64(2), object(1)\nmemory usage: 14.2+ MB\n"
    }
   ],
   "source": [
    "items = pd.read_csv('data/tianchi_fresh_comp_train_item.csv')\n",
    "items.info()"
   ]
  },
  {
   "cell_type": "code",
   "execution_count": 5,
   "metadata": {},
   "outputs": [
    {
     "data": {
      "text/html": "<div>\n<style scoped>\n    .dataframe tbody tr th:only-of-type {\n        vertical-align: middle;\n    }\n\n    .dataframe tbody tr th {\n        vertical-align: top;\n    }\n\n    .dataframe thead th {\n        text-align: right;\n    }\n</style>\n<table border=\"1\" class=\"dataframe\">\n  <thead>\n    <tr style=\"text-align: right;\">\n      <th></th>\n      <th>item_id</th>\n      <th>item_geohash</th>\n      <th>item_category</th>\n    </tr>\n  </thead>\n  <tbody>\n    <tr>\n      <th>0</th>\n      <td>100002303</td>\n      <td>NaN</td>\n      <td>3368</td>\n    </tr>\n    <tr>\n      <th>1</th>\n      <td>100003592</td>\n      <td>NaN</td>\n      <td>7995</td>\n    </tr>\n    <tr>\n      <th>2</th>\n      <td>100006838</td>\n      <td>NaN</td>\n      <td>12630</td>\n    </tr>\n    <tr>\n      <th>3</th>\n      <td>100008089</td>\n      <td>NaN</td>\n      <td>7791</td>\n    </tr>\n    <tr>\n      <th>4</th>\n      <td>100012750</td>\n      <td>NaN</td>\n      <td>9614</td>\n    </tr>\n    <tr>\n      <th>5</th>\n      <td>100014072</td>\n      <td>NaN</td>\n      <td>1032</td>\n    </tr>\n    <tr>\n      <th>6</th>\n      <td>100014463</td>\n      <td>NaN</td>\n      <td>9023</td>\n    </tr>\n    <tr>\n      <th>7</th>\n      <td>100019387</td>\n      <td>NaN</td>\n      <td>3064</td>\n    </tr>\n    <tr>\n      <th>8</th>\n      <td>100023812</td>\n      <td>NaN</td>\n      <td>6700</td>\n    </tr>\n    <tr>\n      <th>9</th>\n      <td>10003007</td>\n      <td>NaN</td>\n      <td>5827</td>\n    </tr>\n  </tbody>\n</table>\n</div>",
      "text/plain": "     item_id item_geohash  item_category\n0  100002303          NaN           3368\n1  100003592          NaN           7995\n2  100006838          NaN          12630\n3  100008089          NaN           7791\n4  100012750          NaN           9614\n5  100014072          NaN           1032\n6  100014463          NaN           9023\n7  100019387          NaN           3064\n8  100023812          NaN           6700\n9   10003007          NaN           5827"
     },
     "execution_count": 5,
     "metadata": {},
     "output_type": "execute_result"
    }
   ],
   "source": [
    "items.head(10)"
   ]
  },
  {
   "cell_type": "code",
   "execution_count": 1,
   "metadata": {},
   "outputs": [],
   "source": [
    "import pandas as pd"
   ]
  },
  {
   "cell_type": "code",
   "execution_count": 2,
   "metadata": {},
   "outputs": [],
   "source": [
    "users = pd.read_csv('data/tianchi_fresh_comp_train_user.csv')\n",
    "items = pd.read_csv('data/tianchi_fresh_comp_train_item.csv')"
   ]
  },
  {
   "cell_type": "code",
   "execution_count": 4,
   "metadata": {},
   "outputs": [
    {
     "name": "stdout",
     "output_type": "stream",
     "text": "1054\n"
    }
   ],
   "source": [
    "item_cats = list(items['item_category'].unique())\n",
    "print(len(item_cats))"
   ]
  }
 ]
}