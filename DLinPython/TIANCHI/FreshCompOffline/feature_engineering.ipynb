{
 "nbformat": 4,
 "nbformat_minor": 2,
 "metadata": {
  "language_info": {
   "name": "python",
   "codemirror_mode": {
    "name": "ipython",
    "version": 3
   },
   "version": "3.6.8-final"
  },
  "orig_nbformat": 2,
  "file_extension": ".py",
  "mimetype": "text/x-python",
  "name": "python",
  "npconvert_exporter": "python",
  "pygments_lexer": "ipython3",
  "version": 3,
  "kernelspec": {
   "name": "python36864bitf565781081d744afad17c5b35da09c87",
   "display_name": "Python 3.6.8 64-bit"
  }
 },
 "cells": [
  {
   "cell_type": "code",
   "execution_count": 2,
   "metadata": {},
   "outputs": [],
   "source": [
    "# import pandas as pd"
   ]
  },
  {
   "cell_type": "code",
   "execution_count": 3,
   "metadata": {},
   "outputs": [],
   "source": [
    "# users = pd.read_csv('data/tianchi_fresh_comp_train_user.csv')"
   ]
  },
  {
   "cell_type": "code",
   "execution_count": 5,
   "metadata": {},
   "outputs": [
    {
     "data": {
      "text/html": "<div>\n<style scoped>\n    .dataframe tbody tr th:only-of-type {\n        vertical-align: middle;\n    }\n\n    .dataframe tbody tr th {\n        vertical-align: top;\n    }\n\n    .dataframe thead th {\n        text-align: right;\n    }\n</style>\n<table border=\"1\" class=\"dataframe\">\n  <thead>\n    <tr style=\"text-align: right;\">\n      <th></th>\n      <th>user_id</th>\n      <th>item_id</th>\n      <th>behavior_type</th>\n      <th>user_geohash</th>\n      <th>item_category</th>\n      <th>time</th>\n    </tr>\n  </thead>\n  <tbody>\n    <tr>\n      <th>0</th>\n      <td>10001082</td>\n      <td>285259775</td>\n      <td>1</td>\n      <td>97lk14c</td>\n      <td>4076</td>\n      <td>2014-12-08 18</td>\n    </tr>\n    <tr>\n      <th>1</th>\n      <td>10001082</td>\n      <td>4368907</td>\n      <td>1</td>\n      <td>NaN</td>\n      <td>5503</td>\n      <td>2014-12-12 12</td>\n    </tr>\n    <tr>\n      <th>2</th>\n      <td>10001082</td>\n      <td>4368907</td>\n      <td>1</td>\n      <td>NaN</td>\n      <td>5503</td>\n      <td>2014-12-12 12</td>\n    </tr>\n    <tr>\n      <th>3</th>\n      <td>10001082</td>\n      <td>53616768</td>\n      <td>1</td>\n      <td>NaN</td>\n      <td>9762</td>\n      <td>2014-12-02 15</td>\n    </tr>\n    <tr>\n      <th>4</th>\n      <td>10001082</td>\n      <td>151466952</td>\n      <td>1</td>\n      <td>NaN</td>\n      <td>5232</td>\n      <td>2014-12-12 11</td>\n    </tr>\n    <tr>\n      <th>...</th>\n      <td>...</td>\n      <td>...</td>\n      <td>...</td>\n      <td>...</td>\n      <td>...</td>\n      <td>...</td>\n    </tr>\n    <tr>\n      <th>95</th>\n      <td>10001082</td>\n      <td>282816229</td>\n      <td>1</td>\n      <td>NaN</td>\n      <td>9666</td>\n      <td>2014-12-14 03</td>\n    </tr>\n    <tr>\n      <th>96</th>\n      <td>10001082</td>\n      <td>362845104</td>\n      <td>1</td>\n      <td>NaN</td>\n      <td>5176</td>\n      <td>2014-12-13 14</td>\n    </tr>\n    <tr>\n      <th>97</th>\n      <td>10001082</td>\n      <td>262112219</td>\n      <td>1</td>\n      <td>NaN</td>\n      <td>9614</td>\n      <td>2014-11-22 12</td>\n    </tr>\n    <tr>\n      <th>98</th>\n      <td>10001082</td>\n      <td>275221686</td>\n      <td>1</td>\n      <td>NaN</td>\n      <td>10576</td>\n      <td>2014-12-13 14</td>\n    </tr>\n    <tr>\n      <th>99</th>\n      <td>10001082</td>\n      <td>275221686</td>\n      <td>1</td>\n      <td>NaN</td>\n      <td>10576</td>\n      <td>2014-12-02 22</td>\n    </tr>\n  </tbody>\n</table>\n<p>100 rows × 6 columns</p>\n</div>",
      "text/plain": "     user_id    item_id  behavior_type user_geohash  item_category  \\\n0   10001082  285259775              1      97lk14c           4076   \n1   10001082    4368907              1          NaN           5503   \n2   10001082    4368907              1          NaN           5503   \n3   10001082   53616768              1          NaN           9762   \n4   10001082  151466952              1          NaN           5232   \n..       ...        ...            ...          ...            ...   \n95  10001082  282816229              1          NaN           9666   \n96  10001082  362845104              1          NaN           5176   \n97  10001082  262112219              1          NaN           9614   \n98  10001082  275221686              1          NaN          10576   \n99  10001082  275221686              1          NaN          10576   \n\n             time  \n0   2014-12-08 18  \n1   2014-12-12 12  \n2   2014-12-12 12  \n3   2014-12-02 15  \n4   2014-12-12 11  \n..            ...  \n95  2014-12-14 03  \n96  2014-12-13 14  \n97  2014-11-22 12  \n98  2014-12-13 14  \n99  2014-12-02 22  \n\n[100 rows x 6 columns]"
     },
     "execution_count": 5,
     "metadata": {},
     "output_type": "execute_result"
    }
   ],
   "source": [
    "# users_demo = users.iloc[:100]\n",
    "# users_demo"
   ]
  },
  {
   "cell_type": "code",
   "execution_count": 9,
   "metadata": {},
   "outputs": [],
   "source": [
    "# import pickle\n",
    "\n",
    "# with open('data/users_demo.pickle', 'wb') as f:\n",
    "#     pickle.dump(users_demo, f)"
   ]
  },
  {
   "cell_type": "code",
   "execution_count": 2,
   "metadata": {},
   "outputs": [],
   "source": [
    "import pickle\n",
    "with open('data/users_demo.pickle', 'rb') as f:\n",
    "    users_demo = pickle.load(f)"
   ]
  },
  {
   "cell_type": "code",
   "execution_count": 22,
   "metadata": {},
   "outputs": [
    {
     "name": "stdout",
     "output_type": "stream",
     "text": "user_id    item_id  behavior_type  item_category           time\n58  10001082  377161387              1           1863  2014-12-15 08\n     user_id    item_id  behavior_type  item_category           time\n10  10001082  396795886              1           2825  2014-12-12 12\n11  10001082    9947871              1           2825  2014-11-28 20\n32  10001082   82238041              1           2825  2014-12-12 12\n36  10001082  347100924              1           2825  2014-12-12 12\n62  10001082   85851739              1           2825  2014-12-14 16\n76  10001082   85851739              1           2825  2014-12-14 16\n92  10001082   82238041              1           2825  2014-12-12 12\n     user_id    item_id  behavior_type  item_category           time\n12  10001082  150720867              1           3200  2014-12-15 08\n31  10001082  133020432              1           3200  2014-12-15 08\n    user_id    item_id  behavior_type  item_category           time\n0  10001082  285259775              1           4076  2014-12-08 18\n     user_id    item_id  behavior_type  item_category           time\n90  10001082  165292036              1           4370  2014-11-28 20\n     user_id    item_id  behavior_type  item_category           time\n24  10001082  125083630              1           4722  2014-12-14 03\n     user_id    item_id  behavior_type  item_category           time\n44  10001082  117708332              1           5176  2014-12-08 18\n53  10001082  362845104              1           5176  2014-12-08 18\n66  10001082  216415944              1           5176  2014-12-13 14\n72  10001082  216415944              1           5176  2014-12-13 14\n73  10001082  262470188              1           5176  2014-12-13 14\n74  10001082  216415944              1           5176  2014-12-13 14\n84  10001082  117708332              1           5176  2014-12-08 19\n85  10001082  262470188              1           5176  2014-12-13 14\n96  10001082  362845104              1           5176  2014-12-13 14\n     user_id    item_id  behavior_type  item_category           time\n4   10001082  151466952              1           5232  2014-12-12 11\n19  10001082  266563343              1           5232  2014-12-12 11\n20  10001082  151466952              1           5232  2014-12-12 11\n50  10001082   29558680              1           5232  2014-12-12 11\n64  10001082  151466952              1           5232  2014-12-12 11\n77  10001082  184299215              1           5232  2014-12-12 11\n94  10001082  212028630              1           5232  2014-12-12 11\n     user_id    item_id  behavior_type  item_category           time\n65  10001082  278017344              1           5334  2014-12-14 03\n     user_id    item_id  behavior_type  item_category           time\n1   10001082    4368907              1           5503  2014-12-12 12\n2   10001082    4368907              1           5503  2014-12-12 12\n6   10001082  290088061              1           5503  2014-12-12 12\n55  10001082  222375145              1           5503  2014-12-12 11\n     user_id    item_id  behavior_type  item_category           time\n38  10001082  223569678              1           5653  2014-12-12 12\n70  10001082  223569678              1           5653  2014-12-12 12\n     user_id    item_id  behavior_type  item_category           time\n21  10001082  209290607              1           5894  2014-12-14 16\n29  10001082   45258196              1           5894  2014-12-12 12\n48  10001082  327034531              1           5894  2014-12-12 12\n69  10001082  360052979              1           5894  2014-12-12 12\n     user_id    item_id  behavior_type  item_category           time\n26  10001082  282931871              1           6000  2014-12-10 13\n40  10001082   62687596              1           6000  2014-12-10 13\n49  10001082   90957005              1           6000  2014-12-10 13\n52  10001082   90957005              1           6000  2014-12-10 13\n67  10001082   17500214              1           6000  2014-12-10 13\n     user_id    item_id  behavior_type  item_category           time\n54  10001082  148776642              1           6255  2014-12-12 12\n     user_id    item_id  behavior_type  item_category           time\n8   10001082   32104252              1           6513  2014-12-12 12\n39  10001082  225520260              1           6513  2014-12-12 12\n51  10001082  330054146              1           6513  2014-12-12 12\n68  10001082  200101228              1           6513  2014-11-28 20\n75  10001082  225520260              1           6513  2014-12-12 12\n     user_id    item_id  behavior_type  item_category           time\n18  10001082  296378545              1           6669  2014-12-02 12\n22  10001082  296378545              1           6669  2014-12-02 12\n     user_id    item_id  behavior_type  item_category           time\n17  10001082  220586551              1           7079  2014-12-14 03\n61  10001082  220586551              4           7079  2014-12-14 03\n     user_id    item_id  behavior_type  item_category           time\n60  10001082  148581898              1           7229  2014-11-24 17\n     user_id    item_id  behavior_type  item_category           time\n89  10001082  262112219              1           9614  2014-11-22 12\n97  10001082  262112219              1           9614  2014-11-22 12\n     user_id    item_id  behavior_type  item_category           time\n95  10001082  282816229              1           9666  2014-12-14 03\n     user_id   item_id  behavior_type  item_category           time\n3   10001082  53616768              1           9762  2014-12-02 15\n5   10001082  53616768              4           9762  2014-12-02 15\n37  10001082  53616768              1           9762  2014-12-02 12\n88  10001082  53616768              1           9762  2014-12-02 22\n     user_id    item_id  behavior_type  item_category           time\n27  10001082  266188611              1          10223  2014-11-20 19\n57  10001082  266188611              1          10223  2014-11-20 19\n79  10001082  266188611              1          10223  2014-11-20 19\n80  10001082  266188611              1          10223  2014-11-20 19\n     user_id   item_id  behavior_type  item_category           time\n23  10001082  22667958              1          10523  2014-12-15 08\n     user_id    item_id  behavior_type  item_category           time\n13  10001082  275221686              1          10576  2014-12-03 01\n14  10001082   97441652              1          10576  2014-11-20 21\n15  10001082  275221686              1          10576  2014-12-13 14\n16  10001082  275221686              1          10576  2014-12-08 07\n25  10001082  236453039              1          10576  2014-12-08 07\n30  10001082  326973863              1          10576  2014-12-02 22\n33  10001082  275221686              1          10576  2014-12-08 07\n34  10001082  275221686              1          10576  2014-12-08 00\n35  10001082  275221686              1          10576  2014-12-17 05\n41  10001082  195429067              1          10576  2014-11-20 21\n42  10001082   50228869              1          10576  2014-12-08 07\n45  10001082  275221686              1          10576  2014-12-13 14\n46  10001082  326973863              1          10576  2014-12-02 22\n47  10001082  167022568              1          10576  2014-11-20 21\n56  10001082  326973863              1          10576  2014-12-02 22\n71  10001082  275221686              1          10576  2014-12-13 14\n78  10001082  275221686              1          10576  2014-12-14 16\n83  10001082  275221686              4          10576  2014-12-02 22\n86  10001082  275221686              1          10576  2014-12-03 01\n87  10001082  275221686              1          10576  2014-12-03 01\n93  10001082  275221686              1          10576  2014-12-08 00\n98  10001082  275221686              1          10576  2014-12-13 14\n99  10001082  275221686              1          10576  2014-12-02 22\n     user_id    item_id  behavior_type  item_category           time\n7   10001082  298397524              1          10894  2014-12-12 12\n9   10001082  323339743              1          10894  2014-12-12 12\n28  10001082  302705570              1          10894  2014-12-12 12\n63  10001082  298397524              1          10894  2014-12-12 12\n81  10001082  323339743              1          10894  2014-12-12 12\n82  10001082  298397524              1          10894  2014-12-12 12\n91  10001082  170596596              1          10894  2014-12-12 11\n     user_id  item_id  behavior_type  item_category           time\n43  10001082   582649              1          12147  2014-12-17 18\n     user_id    item_id  behavior_type  item_category           time\n59  10001082  110790001              1          13230  2014-12-14 16\n"
    }
   ],
   "source": [
    "users_group = users_demo.drop('user_geohash', axis=1).groupby(['user_id', 'item_category'])\n",
    "c = 0\n",
    "for user in users_group:\n",
    "    print(user[1])"
   ]
  },
  {
   "cell_type": "code",
   "execution_count": 23,
   "metadata": {},
   "outputs": [
    {
     "name": "stdout",
     "output_type": "stream",
     "text": "user_id buyOrNot num_views num_favorites num_add2carts\n0   10001082        0         1             0             0\n1   10001082        0         7             0             0\n2   10001082        0         2             0             0\n3   10001082        0         1             0             0\n4   10001082        0         1             0             0\n5   10001082        0         1             0             0\n6   10001082        0         9             0             0\n7   10001082        0         7             0             0\n8   10001082        0         1             0             0\n9   10001082        0         4             0             0\n10  10001082        0         2             0             0\n11  10001082        0         4             0             0\n12  10001082        0         5             0             0\n13  10001082        0         1             0             0\n14  10001082        0         5             0             0\n15  10001082        0         2             0             0\n16  10001082        1         1             0             0\n17  10001082        0         1             0             0\n18  10001082        0         2             0             0\n19  10001082        0         1             0             0\n20  10001082        1         3             0             0\n21  10001082        0         4             0             0\n22  10001082        0         1             0             0\n23  10001082        1        22             0             0\n24  10001082        0         7             0             0\n25  10001082        0         1             0             0\n26  10001082        0         1             0             0\n"
    }
   ],
   "source": [
    "\"\"\"\n",
    "features_df = dataframe\n",
    "for each group in users_group:\n",
    "    cout num_views, num_favorites, num_add2carts in behavior_type\n",
    "    new_row = dict(user_id, buyOrNot, num_views, num_favorites, num_add2carts, time)\n",
    "    add new_row to features_df\n",
    "return features_df\n",
    "\"\"\"\n",
    "\n",
    "import pandas as pd\n",
    "\n",
    "features_df = pd.DataFrame(columns=['user_id', 'buyOrNot', 'num_views', 'num_favorites', 'num_add2carts'])\n",
    "\n",
    "for user in users_group:\n",
    "    behavior_counts = user[1]['behavior_type'].value_counts()\n",
    "    num_views = behavior_counts.get(1, 0)\n",
    "    num_favorites = behavior_counts.get(2, 0)\n",
    "    num_add2carts = behavior_counts.get(3, 0)\n",
    "    buyOrNot = 1 if behavior_counts.get(4, 0) else 0\n",
    "\n",
    "    new_row = [{'user_id': user[0][0], 'buyOrNot': buyOrNot, 'num_views': num_views, 'num_favorites': num_favorites, 'num_add2carts': num_add2carts}]\n",
    "    features_df = features_df.append(new_row, ignore_index=True)\n",
    "\n",
    "print(features_df)"
   ]
  }
 ]
}