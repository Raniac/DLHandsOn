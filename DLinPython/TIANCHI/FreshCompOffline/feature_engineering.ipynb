{
 "nbformat": 4,
 "nbformat_minor": 2,
 "metadata": {
  "language_info": {
   "name": "python",
   "codemirror_mode": {
    "name": "ipython",
    "version": 3
   },
   "version": "3.6.8-final"
  },
  "orig_nbformat": 2,
  "file_extension": ".py",
  "mimetype": "text/x-python",
  "name": "python",
  "npconvert_exporter": "python",
  "pygments_lexer": "ipython3",
  "version": 3,
  "kernelspec": {
   "name": "python36864bitf565781081d744afad17c5b35da09c87",
   "display_name": "Python 3.6.8 64-bit"
  }
 },
 "cells": [
  {
   "cell_type": "code",
   "execution_count": 4,
   "metadata": {},
   "outputs": [],
   "source": [
    "import pandas as pd"
   ]
  },
  {
   "cell_type": "code",
   "execution_count": 5,
   "metadata": {},
   "outputs": [],
   "source": [
    "users = pd.read_csv('data/tianchi_fresh_comp_train_user.csv')"
   ]
  },
  {
   "cell_type": "code",
   "execution_count": 12,
   "metadata": {},
   "outputs": [
    {
     "data": {
      "text/html": "<div>\n<style scoped>\n    .dataframe tbody tr th:only-of-type {\n        vertical-align: middle;\n    }\n\n    .dataframe tbody tr th {\n        vertical-align: top;\n    }\n\n    .dataframe thead th {\n        text-align: right;\n    }\n</style>\n<table border=\"1\" class=\"dataframe\">\n  <thead>\n    <tr style=\"text-align: right;\">\n      <th></th>\n      <th>user_id</th>\n      <th>item_id</th>\n      <th>behavior_type</th>\n      <th>user_geohash</th>\n      <th>item_category</th>\n      <th>time</th>\n    </tr>\n  </thead>\n  <tbody>\n    <tr>\n      <th>0</th>\n      <td>10001082</td>\n      <td>285259775</td>\n      <td>1</td>\n      <td>97lk14c</td>\n      <td>4076</td>\n      <td>2014-12-08 18</td>\n    </tr>\n    <tr>\n      <th>1</th>\n      <td>10001082</td>\n      <td>4368907</td>\n      <td>1</td>\n      <td>NaN</td>\n      <td>5503</td>\n      <td>2014-12-12 12</td>\n    </tr>\n    <tr>\n      <th>2</th>\n      <td>10001082</td>\n      <td>4368907</td>\n      <td>1</td>\n      <td>NaN</td>\n      <td>5503</td>\n      <td>2014-12-12 12</td>\n    </tr>\n    <tr>\n      <th>3</th>\n      <td>10001082</td>\n      <td>53616768</td>\n      <td>1</td>\n      <td>NaN</td>\n      <td>9762</td>\n      <td>2014-12-02 15</td>\n    </tr>\n    <tr>\n      <th>4</th>\n      <td>10001082</td>\n      <td>151466952</td>\n      <td>1</td>\n      <td>NaN</td>\n      <td>5232</td>\n      <td>2014-12-12 11</td>\n    </tr>\n    <tr>\n      <th>...</th>\n      <td>...</td>\n      <td>...</td>\n      <td>...</td>\n      <td>...</td>\n      <td>...</td>\n      <td>...</td>\n    </tr>\n    <tr>\n      <th>23291015</th>\n      <td>65341491</td>\n      <td>155217475</td>\n      <td>2</td>\n      <td>NaN</td>\n      <td>3093</td>\n      <td>2014-12-18 01</td>\n    </tr>\n    <tr>\n      <th>23291016</th>\n      <td>65341491</td>\n      <td>149524160</td>\n      <td>1</td>\n      <td>NaN</td>\n      <td>11595</td>\n      <td>2014-12-03 17</td>\n    </tr>\n    <tr>\n      <th>23291020</th>\n      <td>65341491</td>\n      <td>74058337</td>\n      <td>1</td>\n      <td>NaN</td>\n      <td>6450</td>\n      <td>2014-12-03 12</td>\n    </tr>\n    <tr>\n      <th>23291021</th>\n      <td>65341491</td>\n      <td>312926385</td>\n      <td>1</td>\n      <td>NaN</td>\n      <td>9412</td>\n      <td>2014-11-29 10</td>\n    </tr>\n    <tr>\n      <th>23291024</th>\n      <td>65341491</td>\n      <td>52142024</td>\n      <td>1</td>\n      <td>95qhbsu</td>\n      <td>5201</td>\n      <td>2014-12-10 22</td>\n    </tr>\n  </tbody>\n</table>\n<p>8688123 rows × 6 columns</p>\n</div>",
      "text/plain": "           user_id    item_id  behavior_type user_geohash  item_category  \\\n0         10001082  285259775              1      97lk14c           4076   \n1         10001082    4368907              1          NaN           5503   \n2         10001082    4368907              1          NaN           5503   \n3         10001082   53616768              1          NaN           9762   \n4         10001082  151466952              1          NaN           5232   \n...            ...        ...            ...          ...            ...   \n23291015  65341491  155217475              2          NaN           3093   \n23291016  65341491  149524160              1          NaN          11595   \n23291020  65341491   74058337              1          NaN           6450   \n23291021  65341491  312926385              1          NaN           9412   \n23291024  65341491   52142024              1      95qhbsu           5201   \n\n                   time  \n0         2014-12-08 18  \n1         2014-12-12 12  \n2         2014-12-12 12  \n3         2014-12-02 15  \n4         2014-12-12 11  \n...                 ...  \n23291015  2014-12-18 01  \n23291016  2014-12-03 17  \n23291020  2014-12-03 12  \n23291021  2014-11-29 10  \n23291024  2014-12-10 22  \n\n[8688123 rows x 6 columns]"
     },
     "execution_count": 12,
     "metadata": {},
     "output_type": "execute_result"
    }
   ],
   "source": [
    "test = users.groupby(['user_id', 'item_category'])\n",
    "test.head(10)"
   ]
  }
 ]
}