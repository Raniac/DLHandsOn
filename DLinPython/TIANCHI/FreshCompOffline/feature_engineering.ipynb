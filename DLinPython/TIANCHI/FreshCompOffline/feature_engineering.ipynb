{
 "nbformat": 4,
 "nbformat_minor": 2,
 "metadata": {
  "language_info": {
   "name": "python",
   "codemirror_mode": {
    "name": "ipython",
    "version": 3
   },
   "version": "3.6.8-final"
  },
  "orig_nbformat": 2,
  "file_extension": ".py",
  "mimetype": "text/x-python",
  "name": "python",
  "npconvert_exporter": "python",
  "pygments_lexer": "ipython3",
  "version": 3,
  "kernelspec": {
   "name": "python36864bitf565781081d744afad17c5b35da09c87",
   "display_name": "Python 3.6.8 64-bit"
  }
 },
 "cells": [
  {
   "cell_type": "code",
   "execution_count": 2,
   "metadata": {},
   "outputs": [],
   "source": [
    "# import pandas as pd"
   ]
  },
  {
   "cell_type": "code",
   "execution_count": 3,
   "metadata": {},
   "outputs": [],
   "source": [
    "# users = pd.read_csv('data/tianchi_fresh_comp_train_user.csv')"
   ]
  },
  {
   "cell_type": "code",
   "execution_count": 5,
   "metadata": {},
   "outputs": [
    {
     "data": {
      "text/html": "<div>\n<style scoped>\n    .dataframe tbody tr th:only-of-type {\n        vertical-align: middle;\n    }\n\n    .dataframe tbody tr th {\n        vertical-align: top;\n    }\n\n    .dataframe thead th {\n        text-align: right;\n    }\n</style>\n<table border=\"1\" class=\"dataframe\">\n  <thead>\n    <tr style=\"text-align: right;\">\n      <th></th>\n      <th>user_id</th>\n      <th>item_id</th>\n      <th>behavior_type</th>\n      <th>user_geohash</th>\n      <th>item_category</th>\n      <th>time</th>\n    </tr>\n  </thead>\n  <tbody>\n    <tr>\n      <th>0</th>\n      <td>10001082</td>\n      <td>285259775</td>\n      <td>1</td>\n      <td>97lk14c</td>\n      <td>4076</td>\n      <td>2014-12-08 18</td>\n    </tr>\n    <tr>\n      <th>1</th>\n      <td>10001082</td>\n      <td>4368907</td>\n      <td>1</td>\n      <td>NaN</td>\n      <td>5503</td>\n      <td>2014-12-12 12</td>\n    </tr>\n    <tr>\n      <th>2</th>\n      <td>10001082</td>\n      <td>4368907</td>\n      <td>1</td>\n      <td>NaN</td>\n      <td>5503</td>\n      <td>2014-12-12 12</td>\n    </tr>\n    <tr>\n      <th>3</th>\n      <td>10001082</td>\n      <td>53616768</td>\n      <td>1</td>\n      <td>NaN</td>\n      <td>9762</td>\n      <td>2014-12-02 15</td>\n    </tr>\n    <tr>\n      <th>4</th>\n      <td>10001082</td>\n      <td>151466952</td>\n      <td>1</td>\n      <td>NaN</td>\n      <td>5232</td>\n      <td>2014-12-12 11</td>\n    </tr>\n    <tr>\n      <th>...</th>\n      <td>...</td>\n      <td>...</td>\n      <td>...</td>\n      <td>...</td>\n      <td>...</td>\n      <td>...</td>\n    </tr>\n    <tr>\n      <th>95</th>\n      <td>10001082</td>\n      <td>282816229</td>\n      <td>1</td>\n      <td>NaN</td>\n      <td>9666</td>\n      <td>2014-12-14 03</td>\n    </tr>\n    <tr>\n      <th>96</th>\n      <td>10001082</td>\n      <td>362845104</td>\n      <td>1</td>\n      <td>NaN</td>\n      <td>5176</td>\n      <td>2014-12-13 14</td>\n    </tr>\n    <tr>\n      <th>97</th>\n      <td>10001082</td>\n      <td>262112219</td>\n      <td>1</td>\n      <td>NaN</td>\n      <td>9614</td>\n      <td>2014-11-22 12</td>\n    </tr>\n    <tr>\n      <th>98</th>\n      <td>10001082</td>\n      <td>275221686</td>\n      <td>1</td>\n      <td>NaN</td>\n      <td>10576</td>\n      <td>2014-12-13 14</td>\n    </tr>\n    <tr>\n      <th>99</th>\n      <td>10001082</td>\n      <td>275221686</td>\n      <td>1</td>\n      <td>NaN</td>\n      <td>10576</td>\n      <td>2014-12-02 22</td>\n    </tr>\n  </tbody>\n</table>\n<p>100 rows × 6 columns</p>\n</div>",
      "text/plain": "     user_id    item_id  behavior_type user_geohash  item_category  \\\n0   10001082  285259775              1      97lk14c           4076   \n1   10001082    4368907              1          NaN           5503   \n2   10001082    4368907              1          NaN           5503   \n3   10001082   53616768              1          NaN           9762   \n4   10001082  151466952              1          NaN           5232   \n..       ...        ...            ...          ...            ...   \n95  10001082  282816229              1          NaN           9666   \n96  10001082  362845104              1          NaN           5176   \n97  10001082  262112219              1          NaN           9614   \n98  10001082  275221686              1          NaN          10576   \n99  10001082  275221686              1          NaN          10576   \n\n             time  \n0   2014-12-08 18  \n1   2014-12-12 12  \n2   2014-12-12 12  \n3   2014-12-02 15  \n4   2014-12-12 11  \n..            ...  \n95  2014-12-14 03  \n96  2014-12-13 14  \n97  2014-11-22 12  \n98  2014-12-13 14  \n99  2014-12-02 22  \n\n[100 rows x 6 columns]"
     },
     "execution_count": 5,
     "metadata": {},
     "output_type": "execute_result"
    }
   ],
   "source": [
    "# users_demo = users.iloc[:100]\n",
    "# users_demo"
   ]
  },
  {
   "cell_type": "code",
   "execution_count": 9,
   "metadata": {},
   "outputs": [],
   "source": [
    "# import pickle\n",
    "\n",
    "# with open('data/users_demo.pickle', 'wb') as f:\n",
    "#     pickle.dump(users_demo, f)"
   ]
  },
  {
   "cell_type": "code",
   "execution_count": 1,
   "metadata": {},
   "outputs": [],
   "source": [
    "import pickle\n",
    "with open('data/users_demo.pickle', 'rb') as f:\n",
    "    users_demo = pickle.load(f)"
   ]
  },
  {
   "cell_type": "code",
   "execution_count": 3,
   "metadata": {},
   "outputs": [
    {
     "name": "stdout",
     "output_type": "stream",
     "text": "user_id    item_id  behavior_type user_geohash  item_category  \\\n58  10001082  377161387              1      95qognc           1863   \n\n             time  \n58  2014-12-15 08  \n     user_id    item_id  behavior_type user_geohash  item_category  \\\n10  10001082  396795886              1          NaN           2825   \n11  10001082    9947871              1          NaN           2825   \n32  10001082   82238041              1          NaN           2825   \n36  10001082  347100924              1          NaN           2825   \n62  10001082   85851739              1          NaN           2825   \n76  10001082   85851739              1          NaN           2825   \n92  10001082   82238041              1          NaN           2825   \n\n             time  \n10  2014-12-12 12  \n11  2014-11-28 20  \n32  2014-12-12 12  \n36  2014-12-12 12  \n62  2014-12-14 16  \n76  2014-12-14 16  \n92  2014-12-12 12  \n     user_id    item_id  behavior_type user_geohash  item_category  \\\n12  10001082  150720867              1      95qoghe           3200   \n31  10001082  133020432              1      95qog2a           3200   \n\n             time  \n12  2014-12-15 08  \n31  2014-12-15 08  \n    user_id    item_id  behavior_type user_geohash  item_category  \\\n0  10001082  285259775              1      97lk14c           4076   \n\n            time  \n0  2014-12-08 18  \n     user_id    item_id  behavior_type user_geohash  item_category  \\\n90  10001082  165292036              1          NaN           4370   \n\n             time  \n90  2014-11-28 20  \n     user_id    item_id  behavior_type user_geohash  item_category  \\\n24  10001082  125083630              1          NaN           4722   \n\n             time  \n24  2014-12-14 03  \n     user_id    item_id  behavior_type user_geohash  item_category  \\\n44  10001082  117708332              1      97lk157           5176   \n53  10001082  362845104              1      97lk15v           5176   \n66  10001082  216415944              1          NaN           5176   \n72  10001082  216415944              1          NaN           5176   \n73  10001082  262470188              1          NaN           5176   \n74  10001082  216415944              1          NaN           5176   \n84  10001082  117708332              1      97lk15h           5176   \n85  10001082  262470188              1          NaN           5176   \n96  10001082  362845104              1          NaN           5176   \n\n             time  \n44  2014-12-08 18  \n53  2014-12-08 18  \n66  2014-12-13 14  \n72  2014-12-13 14  \n73  2014-12-13 14  \n74  2014-12-13 14  \n84  2014-12-08 19  \n85  2014-12-13 14  \n96  2014-12-13 14  \n     user_id    item_id  behavior_type user_geohash  item_category  \\\n4   10001082  151466952              1          NaN           5232   \n19  10001082  266563343              1      95qobus           5232   \n20  10001082  151466952              1          NaN           5232   \n50  10001082   29558680              1      95qob0m           5232   \n64  10001082  151466952              1          NaN           5232   \n77  10001082  184299215              1      95qobsg           5232   \n94  10001082  212028630              1      95qobv6           5232   \n\n             time  \n4   2014-12-12 11  \n19  2014-12-12 11  \n20  2014-12-12 11  \n50  2014-12-12 11  \n64  2014-12-12 11  \n77  2014-12-12 11  \n94  2014-12-12 11  \n     user_id    item_id  behavior_type user_geohash  item_category  \\\n65  10001082  278017344              1          NaN           5334   \n\n             time  \n65  2014-12-14 03  \n     user_id    item_id  behavior_type user_geohash  item_category  \\\n1   10001082    4368907              1          NaN           5503   \n2   10001082    4368907              1          NaN           5503   \n6   10001082  290088061              1          NaN           5503   \n55  10001082  222375145              1      95qobv6           5503   \n\n             time  \n1   2014-12-12 12  \n2   2014-12-12 12  \n6   2014-12-12 12  \n55  2014-12-12 11  \n"
    }
   ],
   "source": [
    "users_group = users_demo.groupby(['user_id', 'item_category'])\n",
    "c = 0\n",
    "for user in users_group:\n",
    "    print(user[1])\n",
    "    c += 1\n",
    "    if c == 10:\n",
    "        break"
   ]
  }
 ]
}